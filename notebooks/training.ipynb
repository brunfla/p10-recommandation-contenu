{
 "cells": [
  {
   "cell_type": "markdown",
   "metadata": {},
   "source": [
    "# P10 - Réalisez une application de recommandation de contenu"
   ]
  },
  {
   "cell_type": "code",
   "execution_count": 6,
   "metadata": {
    "tags": [
     "parameters"
    ]
   },
   "outputs": [],
   "source": [
    "# Parameters\n",
    "metadata_path = \"../data/deps/articles_metadata.csv\"\n",
    "output_path = \"../data/outs/model/model_svd.pkl\"\n",
    "clicks_path = \"../data/deps/clicks_sample.csv\"\n",
    "n_factors = 100  # Exemple de paramètre pour ton modèle SVD"
   ]
  },
  {
   "cell_type": "code",
   "execution_count": 4,
   "metadata": {},
   "outputs": [
    {
     "name": "stdout",
     "output_type": "stream",
     "text": [
      "Nombre total d’articles (rows) : 364047\n",
      "Nombre d’articles uniques (article_id) : 364047\n",
      "   article_id  category_id  created_at_ts  publisher_id  words_count\n",
      "0           0            0  1513144419000             0          168\n",
      "1           1            1  1405341936000             0          189\n",
      "2           2            1  1408667706000             0          250\n",
      "3           3            1  1408468313000             0          230\n",
      "4           4            1  1407071171000             0          162\n"
     ]
    }
   ],
   "source": [
    "import pandas as pd\n",
    "\n",
    "metadata = pd.read_csv(metadata_path)\n",
    "\n",
    "# Affichage du nombre de lignes (donc d'articles)\n",
    "print(\"Nombre total d’articles (rows) :\", metadata.shape[0])\n",
    "\n",
    "# Vérification unicité\n",
    "print(\"Nombre d’articles uniques (article_id) :\", metadata['article_id'].nunique())\n",
    "\n",
    "# Aperçu rapide\n",
    "print(metadata.head())"
   ]
  },
  {
   "cell_type": "markdown",
   "metadata": {},
   "source": [
    "## Train model SVD"
   ]
  },
  {
   "cell_type": "code",
   "execution_count": 7,
   "metadata": {},
   "outputs": [
    {
     "name": "stdout",
     "output_type": "stream",
     "text": [
      "Top 5 articles pour l’utilisateur 0 : [68866, 96663, 119592, 168868, 286413]\n"
     ]
    }
   ],
   "source": [
    "import pandas as pd\n",
    "from surprise import Dataset, Reader, SVD\n",
    "from surprise.model_selection import train_test_split\n",
    "import pickle\n",
    "\n",
    "# 1. Chargement des données de clics\n",
    "def load_data(filepath=clicks_path):\n",
    "    df = pd.read_csv(filepath)\n",
    "    # On suppose que chaque clic = score implicite de 1\n",
    "    df[\"rating\"] = 1\n",
    "    return df[[\"user_id\", \"click_article_id\", \"rating\"]]\n",
    "\n",
    "# 2. Entraînement du modèle SVD\n",
    "def train_model(df):\n",
    "    reader = Reader(rating_scale=(0, 1))\n",
    "    data = Dataset.load_from_df(df, reader)\n",
    "    trainset = data.build_full_trainset()\n",
    "\n",
    "    model = SVD()\n",
    "    model.fit(trainset)\n",
    "\n",
    "    return model, trainset\n",
    "\n",
    "# 3. Générer les 5 meilleures recommandations pour un utilisateur donné\n",
    "def get_top_5(user_id, model, trainset, n=5):\n",
    "    all_article_ids = trainset._raw2inner_id_items.keys()\n",
    "    read_articles = set([j for (j, _) in trainset.ur[trainset.to_inner_uid(user_id)]]) \\\n",
    "        if user_id in trainset._raw2inner_id_users else set()\n",
    "\n",
    "    candidates = [aid for aid in all_article_ids if aid not in read_articles]\n",
    "\n",
    "    predictions = [\n",
    "        (aid, model.predict(user_id, aid).est)\n",
    "        for aid in candidates\n",
    "    ]\n",
    "    top_n = sorted(predictions, key=lambda x: x[1], reverse=True)[:n]\n",
    "    return [int(article_id) for article_id, _ in top_n]\n",
    "\n",
    "# 4. Exemple d’utilisation\n",
    "if __name__ == \"__main__\":\n",
    "    df = load_data()\n",
    "    model, trainset = train_model(df)\n",
    "\n",
    "    # Tester avec un user_id existant (à adapter)\n",
    "    sample_user_id = df[\"user_id\"].iloc[0]\n",
    "    recommendations = get_top_5(sample_user_id, model, trainset)\n",
    "    print(f\"Top 5 articles pour l’utilisateur {sample_user_id} : {recommendations}\")\n",
    "\n",
    "    # Sauvegarde du modèle pour usage ultérieur\n",
    "    with open(output_path, \"wb\") as f:\n",
    "        pickle.dump((model, trainset), f)    "
   ]
  },
  {
   "cell_type": "markdown",
   "metadata": {},
   "source": [
    "## Curl\n",
    "\n",
    "```bash\n",
    "curl -X POST http://localhost:7071/api/RecommendArticles \\\n",
    "  -H \"Content-Type: application/json\" \\\n",
    "  -d '{\"user_id\": 42}'\n",
    "```"
   ]
  }
 ],
 "metadata": {
  "kernelspec": {
   "display_name": "p10",
   "language": "python",
   "name": "python3"
  },
  "language_info": {
   "codemirror_mode": {
    "name": "ipython",
    "version": 3
   },
   "file_extension": ".py",
   "mimetype": "text/x-python",
   "name": "python",
   "nbconvert_exporter": "python",
   "pygments_lexer": "ipython3",
   "version": "3.9.21"
  }
 },
 "nbformat": 4,
 "nbformat_minor": 2
}
